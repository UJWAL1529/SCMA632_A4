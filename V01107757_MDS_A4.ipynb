{
 "cells": [
  {
   "cell_type": "code",
   "execution_count": 1,
   "id": "6bec1923-7c05-4aac-8048-a9638f5575c0",
   "metadata": {},
   "outputs": [
    {
     "name": "stdout",
     "output_type": "stream",
     "text": [
      "Requirement already satisfied: pandas in c:\\users\\prakash r\\anaconda3\\lib\\site-packages (2.1.4)\n",
      "Requirement already satisfied: scikit-learn in c:\\users\\prakash r\\anaconda3\\lib\\site-packages (1.2.2)\n",
      "Requirement already satisfied: matplotlib in c:\\users\\prakash r\\anaconda3\\lib\\site-packages (3.8.0)\n",
      "Requirement already satisfied: numpy<2,>=1.23.2 in c:\\users\\prakash r\\anaconda3\\lib\\site-packages (from pandas) (1.26.4)\n",
      "Requirement already satisfied: python-dateutil>=2.8.2 in c:\\users\\prakash r\\anaconda3\\lib\\site-packages (from pandas) (2.8.2)\n",
      "Requirement already satisfied: pytz>=2020.1 in c:\\users\\prakash r\\anaconda3\\lib\\site-packages (from pandas) (2023.3.post1)\n",
      "Requirement already satisfied: tzdata>=2022.1 in c:\\users\\prakash r\\anaconda3\\lib\\site-packages (from pandas) (2023.3)\n",
      "Requirement already satisfied: scipy>=1.3.2 in c:\\users\\prakash r\\anaconda3\\lib\\site-packages (from scikit-learn) (1.11.4)\n",
      "Requirement already satisfied: joblib>=1.1.1 in c:\\users\\prakash r\\anaconda3\\lib\\site-packages (from scikit-learn) (1.2.0)\n",
      "Requirement already satisfied: threadpoolctl>=2.0.0 in c:\\users\\prakash r\\anaconda3\\lib\\site-packages (from scikit-learn) (2.2.0)\n",
      "Requirement already satisfied: contourpy>=1.0.1 in c:\\users\\prakash r\\anaconda3\\lib\\site-packages (from matplotlib) (1.2.0)\n",
      "Requirement already satisfied: cycler>=0.10 in c:\\users\\prakash r\\anaconda3\\lib\\site-packages (from matplotlib) (0.11.0)\n",
      "Requirement already satisfied: fonttools>=4.22.0 in c:\\users\\prakash r\\anaconda3\\lib\\site-packages (from matplotlib) (4.25.0)\n",
      "Requirement already satisfied: kiwisolver>=1.0.1 in c:\\users\\prakash r\\anaconda3\\lib\\site-packages (from matplotlib) (1.4.4)\n",
      "Requirement already satisfied: packaging>=20.0 in c:\\users\\prakash r\\anaconda3\\lib\\site-packages (from matplotlib) (23.1)\n",
      "Requirement already satisfied: pillow>=6.2.0 in c:\\users\\prakash r\\anaconda3\\lib\\site-packages (from matplotlib) (10.2.0)\n",
      "Requirement already satisfied: pyparsing>=2.3.1 in c:\\users\\prakash r\\anaconda3\\lib\\site-packages (from matplotlib) (3.0.9)\n",
      "Requirement already satisfied: six>=1.5 in c:\\users\\prakash r\\anaconda3\\lib\\site-packages (from python-dateutil>=2.8.2->pandas) (1.16.0)\n"
     ]
    }
   ],
   "source": [
    "# Install necessary packages\n",
    "!pip install pandas scikit-learn matplotlib"
   ]
  },
  {
   "cell_type": "code",
   "execution_count": 2,
   "id": "2e97f927-6764-4a98-ae61-5296a701944c",
   "metadata": {},
   "outputs": [],
   "source": [
    "# Import necessary packages\n",
    "import pandas as pd\n",
    "import numpy as np\n",
    "from sklearn.preprocessing import StandardScaler\n",
    "from sklearn.manifold import MDS\n",
    "import matplotlib.pyplot as plt"
   ]
  },
  {
   "cell_type": "code",
   "execution_count": 3,
   "id": "35a935b0-648f-468a-a59b-7de2b76e8b50",
   "metadata": {},
   "outputs": [],
   "source": [
    "# Read the dataset\n",
    "icecream_df = pd.read_csv(\"C:\\\\A4\\\\icecream.csv\")"
   ]
  },
  {
   "cell_type": "code",
   "execution_count": 4,
   "id": "0b8e49b8-a2aa-44eb-b891-d6cb9fd0360f",
   "metadata": {},
   "outputs": [
    {
     "name": "stdout",
     "output_type": "stream",
     "text": [
      "(10, 7)\n",
      "Index(['Brand', 'Price', 'Availability', 'Taste', 'Flavour', 'Consistency',\n",
      "       'Shelflife'],\n",
      "      dtype='object')\n",
      "     Brand  Price  Availability  Taste  Flavour  Consistency  Shelflife\n",
      "0     Amul      4             5      4        3            4          3\n",
      "1  Nandini      3             2      3        2            3          3\n",
      "2  Vadilal      2             2      4        3            4          4\n",
      "3   Vijaya      3             1      3        5            3          4\n",
      "4    Dodla      3             3      3        4            4          3\n"
     ]
    }
   ],
   "source": [
    "# Inspect the dataset\n",
    "print(icecream_df.shape)\n",
    "print(icecream_df.columns)\n",
    "print(icecream_df.head())"
   ]
  },
  {
   "cell_type": "code",
   "execution_count": 5,
   "id": "7c231e8a-ae9f-4420-aa4e-ac58ce4529cf",
   "metadata": {},
   "outputs": [],
   "source": [
    "# Select the relevant columns for MDS (excluding 'Brand')\n",
    "ice = icecream_df.drop(columns=['Brand'])"
   ]
  },
  {
   "cell_type": "code",
   "execution_count": 6,
   "id": "3215527c-37bf-428b-aeea-50c380775c52",
   "metadata": {},
   "outputs": [],
   "source": [
    "# Standardize the data\n",
    "scaler = StandardScaler()\n",
    "ice_scaled = scaler.fit_transform(ice)"
   ]
  },
  {
   "cell_type": "code",
   "execution_count": 7,
   "id": "e1809f9c-b565-4428-9129-ff1e26e6a40b",
   "metadata": {},
   "outputs": [],
   "source": [
    "# Compute the distance matrix\n",
    "distance_matrix = np.linalg.norm(ice_scaled[:, np.newaxis] - ice_scaled, axis=2)"
   ]
  },
  {
   "cell_type": "code",
   "execution_count": 8,
   "id": "a7f96db6-e7f4-42b2-9cce-c9cd15f009a5",
   "metadata": {},
   "outputs": [
    {
     "name": "stderr",
     "output_type": "stream",
     "text": [
      "C:\\Users\\Prakash R\\anaconda3\\Lib\\site-packages\\sklearn\\manifold\\_mds.py:299: FutureWarning: The default value of `normalized_stress` will change to `'auto'` in version 1.4. To suppress this warning, manually set the value of `normalized_stress`.\n",
      "  warnings.warn(\n"
     ]
    }
   ],
   "source": [
    "# Perform MDS\n",
    "mds = MDS(n_components=2, dissimilarity='precomputed', random_state=123)\n",
    "mds_result = mds.fit_transform(distance_matrix)"
   ]
  },
  {
   "cell_type": "code",
   "execution_count": 9,
   "id": "3c81e2cb-1e2b-4756-9c63-c5661abead83",
   "metadata": {},
   "outputs": [
    {
     "data": {
      "text/plain": [
       "Text(0, 0.5, 'Dimension 2')"
      ]
     },
     "execution_count": 9,
     "metadata": {},
     "output_type": "execute_result"
    },
    {
     "data": {
      "image/png": "[encoded data removed]",
      "text/plain": [
       "<Figure size 1000x700 with 1 Axes>"
      ]
     },
     "metadata": {},
     "output_type": "display_data"
    }
   ],
   "source": [
    "# Plot the MDS results\n",
    "plt.figure(figsize=(10, 7))\n",
    "plt.scatter(mds_result[:, 0], mds_result[:, 1], c='blue', marker='o')\n",
    "plt.title('MDS plot')\n",
    "plt.xlabel('Dimension 1')\n",
    "plt.ylabel('Dimension 2')"
   ]
  },
  {
   "cell_type": "code",
   "execution_count": null,
   "id": "38b3c156-4861-4b90-929c-f3e9d001da12",
   "metadata": {},
   "outputs": [],
   "source": []
  }
 ],
 "metadata": {
  "kernelspec": {
   "display_name": "Python 3 (ipykernel)",
   "language": "python",
   "name": "python3"
  },
  "language_info": {
   "codemirror_mode": {
    "name": "ipython",
    "version": 3
   },
   "file_extension": ".py",
   "mimetype": "text/x-python",
   "name": "python",
   "nbconvert_exporter": "python",
   "pygments_lexer": "ipython3",
   "version": "3.11.7"
  }
 },
 "nbformat": 4,
 "nbformat_minor": 5
}
